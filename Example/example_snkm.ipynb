{
 "cells": [
  {
   "cell_type": "markdown",
   "metadata": {},
   "source": [
    "# PyDSGE Example - Small New Keynesian Model\n",
    "## Author: Gustavo Amarante\n",
    "This jupyter notebook is an example on how to implement the basic new keynesian model. The details of the model and \n",
    "parameters interpretations can be found in [Galí (2008)](https://www.amazon.com/Monetary-Policy-Inflation-Business-Cycle/dp/0691133166) \n",
    "and a full step-by-step derivation of the model equations is in \n",
    "[Bergholt (2012)](https://bergholt.weebly.com/uploads/1/1/8/4/11843961/the_basic_new_keynesian_model_-_drago_bergholt.pdf).\n",
    "\n",
    "The linearized version of the model is given by the following equations:\n",
    "\n",
    "$\n",
    "\\begin{align*}\n",
    "\\tilde{y}_{t} & =E_{t}\\left(\\tilde{y}_{t+1}\\right)-\\frac{1}{\\sigma}\\left[\\hat{i}_{t}-E_{t}\\left(\\pi_{t+1}\\right)\\right]+\\psi_{ya}^{n}\\left(\\rho_{a}-1\\right)a_{t}\\\\\n",
    "\\pi_{t} & =\\beta E_{t}\\left(\\pi_{t+1}\\right)+\\kappa\\tilde{y}_{t}+\\sigma_{\\pi}\\varepsilon_{t}^{\\pi}\\\\\n",
    "\\hat{i}_{t} & =\\phi_{\\pi}\\pi_{t}+\\phi_{y}\\tilde{y}_{t}+v_{t}\\\\\n",
    "a_{t} & =\\rho_{a}a_{t-1}+\\sigma_{a}\\varepsilon_{t}^{a}\\\\\n",
    "v_{t} & =\\rho_{v}v_{t-1}+\\sigma_{v}\\varepsilon_{t}^{v}\n",
    "\\end{align*}\n",
    "$\n",
    "\n",
    "where the following parameters are given by:\n",
    "\n",
    "$\n",
    "\\psi_{ya}^{n}=\\frac{1+\\varphi}{\\sigma\\left(1-\\alpha\\right)+\\varphi+\\alpha}\\qquad\\kappa=\\frac{\\left(1-\\theta\\right)\\left(1-\\theta\\beta\\right)\\left[\\sigma\\left(1-\\alpha\\right)+\\varphi+\\alpha\\right]}{\\theta\\left(1-\\alpha+\\alpha\\epsilon\\right)}\n",
    "$\n",
    "\n",
    "We also need to write the expectations of time $t+1$ variables as time-$t$ variables. The relationship between variable \n",
    "expectations and the effective value is just the expectational error.\n",
    "\n",
    "$\n",
    "\\begin{align*}\n",
    "\\tilde{y}_{t+1} & =ex_{t}^{y}+\\eta_{t+1}^{y}\\\\\n",
    "\\pi_{t+1} & =ex_{t}^{\\pi}+\\eta_{t+1}^{\\pi}\n",
    "\\end{align*}\n",
    "$\n",
    "\n",
    "where $ex_{t}^{y}=E_{t}\\left(\\tilde{y}_{t+1}\\right)$.\n",
    "\n",
    "So we have 7 endogenous variables, 3 exogenous shocks $\\varepsilon$ and 2 expectational errors $\\eta$ that compose the \n",
    "state equations of the model. We also need to specify the set of observation equations, which we will assume that only \n",
    "the output gap, inflation and interest rate are observable variables. \n",
    "\n",
    "$\n",
    "\\begin{align*}\n",
    "output\\_gap_{t} & =\\tilde{y}_{t}\\\\\n",
    "inflation_{t} & =\\pi_{t}\\\\\n",
    "interest\\_rate_{t} & =\\left(\\frac{1}{\\beta}-1\\right)+\\hat{i}_{t}\\\\\n",
    "\\end{align*}\n",
    "$\n",
    "\n",
    "These are the sections of this notebook represent the required steps of a DSGE:\n",
    "* Especification\n",
    "* Calibration\n",
    "* Simulation\n",
    "* Estimation\n",
    "* Analysis"
   ]
  },
  {
   "cell_type": "markdown",
   "metadata": {},
   "source": [
    "The PyDSGE library is not yet on pypi, so we have to add the libraries to our path manually. Soon, this will not be required. Also, we are using a modified version of the `pykalman` library that you can find [here](https://github.com/gusamarante/pykalman)."
   ]
  },
  {
   "cell_type": "code",
   "execution_count": 4,
   "metadata": {},
   "outputs": [],
   "source": [
    "import sys\n",
    "sys.path.append(\"/Users/gustavoamarante/PycharmProjects/pydsge\")\n",
    "sys.path.append(\"/Users/gustavoamarante/PycharmProjects/pykalman\")"
   ]
  },
  {
   "cell_type": "markdown",
   "metadata": {
    "pycharm": {
     "name": "#%% md\n"
    }
   },
   "source": [
    "---\n",
    "# Imports\n",
    "Your imports should include `symbols` and `Matrix` from the [`sympy` library](https://www.sympy.org/en/index.html), as \n",
    "these are required for variables and model declaration."
   ]
  },
  {
   "cell_type": "code",
   "execution_count": 6,
   "metadata": {
    "pycharm": {
     "name": "#%%\n"
    }
   },
   "outputs": [
    {
     "ename": "ModuleNotFoundError",
     "evalue": "No module named 'pydsge'",
     "output_type": "error",
     "traceback": [
      "\u001b[0;31m---------------------------------------------------------------------------\u001b[0m",
      "\u001b[0;31mModuleNotFoundError\u001b[0m                       Traceback (most recent call last)",
      "\u001b[0;32m/var/folders/xr/wp1v50bx0cq9yf3rrn2jc0g00000gn/T/ipykernel_1040/2468253805.py\u001b[0m in \u001b[0;36m<module>\u001b[0;34m\u001b[0m\n\u001b[0;32m----> 1\u001b[0;31m \u001b[0;32mfrom\u001b[0m \u001b[0mpydsge\u001b[0m\u001b[0;34m.\u001b[0m\u001b[0mpydsge\u001b[0m\u001b[0;34m.\u001b[0m\u001b[0mlineardsge\u001b[0m \u001b[0;32mimport\u001b[0m \u001b[0mDSGE\u001b[0m\u001b[0;34m\u001b[0m\u001b[0;34m\u001b[0m\u001b[0m\n\u001b[0m\u001b[1;32m      2\u001b[0m \u001b[0;32mimport\u001b[0m \u001b[0mmatplotlib\u001b[0m\u001b[0;34m.\u001b[0m\u001b[0mpyplot\u001b[0m \u001b[0;32mas\u001b[0m \u001b[0mplt\u001b[0m\u001b[0;34m\u001b[0m\u001b[0;34m\u001b[0m\u001b[0m\n\u001b[1;32m      3\u001b[0m \u001b[0;32mfrom\u001b[0m \u001b[0msympy\u001b[0m \u001b[0;32mimport\u001b[0m \u001b[0msymbols\u001b[0m\u001b[0;34m,\u001b[0m \u001b[0mMatrix\u001b[0m\u001b[0;34m\u001b[0m\u001b[0;34m\u001b[0m\u001b[0m\n",
      "\u001b[0;31mModuleNotFoundError\u001b[0m: No module named 'pydsge'"
     ]
    }
   ],
   "source": [
    "from pydsge.lineardsge import DSGE\n",
    "import matplotlib.pyplot as plt\n",
    "from sympy import symbols, Matrix"
   ]
  },
  {
   "cell_type": "markdown",
   "metadata": {
    "pycharm": {
     "name": "#%% md\n"
    }
   },
   "source": [
    "---\n",
    "# Model Especification\n",
    "## Variable Declaration\n",
    "Declare all of the endogenous variables at time-$t$ as symbols and create a `Matrix` object with them."
   ]
  },
  {
   "cell_type": "code",
   "execution_count": null,
   "metadata": {
    "pycharm": {
     "name": "#%%\n"
    }
   },
   "outputs": [],
   "source": [
    "y, pi, i, a, v, exp_y, exp_pi = symbols('y, pi, i, a, v, exp_y, exp_pi')\n",
    "endog = Matrix([y, pi, i, a, v, exp_y, exp_pi])"
   ]
  },
  {
   "cell_type": "markdown",
   "metadata": {
    "pycharm": {
     "name": "#%% md\n"
    }
   },
   "source": [
    "Declare all of the endogenous variables at time-$t-1$ as symbols and create a `Matrix` object with them. The convention \n",
    "in this notebook is to  add an `l` (for \"lagged\") at the end of the variable name."
   ]
  },
  {
   "cell_type": "code",
   "execution_count": null,
   "metadata": {
    "pycharm": {
     "name": "#%% \n"
    }
   },
   "outputs": [],
   "source": [
    "yl, pil, il, al, vl, exp_yl, exp_pil = symbols('yl, pil, il, al, vl, exp_yl, exp_pil')\n",
    "endogl = Matrix([yl, pil, il, al, vl, exp_yl, exp_pil])"
   ]
  },
  {
   "cell_type": "markdown",
   "metadata": {},
   "source": [
    "Declare all of the exogenous shocks $\\varepsilon$ as symbols and create a `Matrix` object with them."
   ]
  },
  {
   "cell_type": "code",
   "execution_count": null,
   "metadata": {
    "pycharm": {
     "name": "#%%\n"
    }
   },
   "outputs": [],
   "source": [
    "eps_a, eps_v, eps_pi = symbols('eps_a, eps_v, eps_pi')\n",
    "exog = Matrix([eps_a, eps_v, eps_pi])"
   ]
  },
  {
   "cell_type": "markdown",
   "metadata": {},
   "source": [
    "Declare all of the expectational errors $\\eta$ as symbols and create a `Matrix` object with them."
   ]
  },
  {
   "cell_type": "code",
   "execution_count": null,
   "metadata": {
    "pycharm": {
     "name": "#%%\n"
    }
   },
   "outputs": [],
   "source": [
    "eta_y, eta_pi = symbols('eta_y, eta_pi')\n",
    "expec = Matrix([eta_y, eta_pi])\n"
   ]
  },
  {
   "cell_type": "markdown",
   "metadata": {},
   "source": [
    "Declare all of the parameter as symbols and create a `Matrix` object with them. \n",
    "Summary parameters (functions of other parameters) do not need to be inside the matrix object, they only need to be \n",
    "defined by their formula."
   ]
  },
  {
   "cell_type": "code",
   "execution_count": null,
   "metadata": {
    "pycharm": {
     "name": "#%%\n"
    }
   },
   "outputs": [],
   "source": [
    "sigma, varphi, alpha, beta, theta, phi_pi, phi_y, rho_a, sigma_a, rho_v, sigma_v, sigma_pi = \\\n",
    "    symbols('sigma, varphi, alpha, beta, theta, phi_pi, phi_y, rho_a, sigma_a, rho_v, sigma_v, sigma_pi')\n",
    "\n",
    "psi_nya = (1 + varphi) / (sigma*(1-alpha) + varphi + alpha)\n",
    "kappa = (1 - theta)*(1 - theta * beta)*(sigma*(1-alpha) + varphi + alpha)"
   ]
  },
  {
   "cell_type": "markdown",
   "metadata": {
    "pycharm": {
     "name": "#%% md\n"
    }
   },
   "source": [
    "## State Equations \n",
    "Given the set of linearized equilibrium conditions described in the beggining of thie notebook, put all of the terms \n",
    "to one side of the equation so that the system of equations is equal to zero. Since all of our variable and parameter \n",
    "names are symbols, the equations will be correctly interpreted as symbolic expressions. These expressions should also \n",
    "go into a `Matrix` object. This set of equations should include only the state equations of the system. "
   ]
  },
  {
   "cell_type": "code",
   "execution_count": null,
   "metadata": {
    "pycharm": {
     "name": "#%%\n"
    }
   },
   "outputs": [],
   "source": [
    "eq1 = y - exp_y + (1/sigma)*(i - exp_pi) - psi_nya * (rho_a - 1) * a\n",
    "eq2 = pi - beta * exp_pi - kappa * y - sigma_pi * eps_pi\n",
    "eq3 = i - phi_pi * pi - phi_y * y - v\n",
    "eq4 = a - rho_a * al - sigma_a * eps_a\n",
    "eq5 = v - rho_v * vl - sigma_v * eps_v\n",
    "eq6 = y - exp_yl - eta_y\n",
    "eq7 = pi - exp_pil - eta_pi\n",
    "\n",
    "equations = Matrix([eq1, eq2, eq3, eq4, eq5, eq6, eq7])"
   ]
  },
  {
   "cell_type": "markdown",
   "metadata": {
    "pycharm": {
     "name": "#%% md\n"
    }
   },
   "source": [
    "## Observation Equations\n",
    "Using the observation equations described in the beggining of thie notebook, the expression for the observable variables\n",
    "(linear function of the state variables) should be on the right side of the equation. These expressions should also go \n",
    "into a `Matrix` object. This set of equations  should include only the observation equations of the system. And for cosmetic reasons for later, we will give names to the observed variables."
   ]
  },
  {
   "cell_type": "code",
   "execution_count": null,
   "metadata": {
    "pycharm": {
     "name": "#%% \n"
    }
   },
   "outputs": [],
   "source": [
    "obs01 = y\n",
    "obs02 = pi\n",
    "obs03 = 1/beta - 1 + i\n",
    "\n",
    "obs_equations = Matrix([obs01, obs02, obs03])\n",
    "\n",
    "obs_names = ['Output Gap', 'Inflation', 'Interest Rate']"
   ]
  },
  {
   "cell_type": "markdown",
   "metadata": {
    "pycharm": {
     "name": "#%% md\n"
    }
   },
   "source": [
    "---\n",
    "# Model Calibration\n",
    "Now that we have decribed the full set of equilibrium conditions of the models, we can calibrate the parameters. We will\n",
    "save the simulated data to illuestrate the estimation processo later on. To calibrate a model, all you need is a \n",
    "dictionary where the keys are the parameter symbols (***not*** the string with their names) and the values are their \n",
    "respective calibration value. The values below will be our \"true\" parameters. Later in this notebook we will estimate\n",
    "them."
   ]
  },
  {
   "cell_type": "code",
   "execution_count": null,
   "metadata": {
    "pycharm": {
     "name": "#%%\n"
    }
   },
   "outputs": [],
   "source": [
    "calib_dict = {sigma: 1.3,\n",
    "              varphi: 1,\n",
    "              alpha: 0.4,\n",
    "              beta: 0.997805,\n",
    "              theta: 0.75,\n",
    "              phi_pi: 1.5,\n",
    "              phi_y: 0.2,\n",
    "              rho_a: 0.9,\n",
    "              sigma_a: 1.1,\n",
    "              rho_v: 0.5,\n",
    "              sigma_v: 0.3,\n",
    "              sigma_pi: 0.8}"
   ]
  },
  {
   "cell_type": "markdown",
   "metadata": {
    "pycharm": {
     "name": "#%% md\n"
    }
   },
   "source": [
    "to build the DSGE object we just have to pass the `Matrix` objects that we created and the calibration dictionary."
   ]
  },
  {
   "cell_type": "code",
   "execution_count": null,
   "metadata": {
    "pycharm": {
     "name": "#%%\n"
    }
   },
   "outputs": [],
   "source": [
    "dsge_simul = DSGE(endog=endog, \n",
    "                  endogl=endogl, \n",
    "                  exog=exog, \n",
    "                  expec=expec, \n",
    "                  state_equations=equations,\n",
    "                  calib_dict=calib_dict,\n",
    "                  obs_equations=obs_equations,\n",
    "                  obs_names=obs_names)"
   ]
  },
  {
   "cell_type": "markdown",
   "metadata": {
    "pycharm": {
     "name": "#%% md\n"
    }
   },
   "source": [
    "Since we passed a calibration dictionary, the model already knows that it only has to substitute the calibration values\n",
    "in their respective symbolic representaions and solves the model. Just by writing the statement above, the object passed  to `dsge_simul` already computed everything.\n",
    "\n",
    "To check if the calbration values yield a solution or not, the model has the `.eu` attibute, which mirrors the definition from\n",
    "the original *Sims (2002)* `gensys.m` function. It represents the existance (e) and uniqueness (u) of the solution of the model. \n",
    "If the first entry is equal to 1 it means the model has a solution and if the second entry is equal to 1 it means that\n",
    "the solution is unique."
   ]
  },
  {
   "cell_type": "code",
   "execution_count": null,
   "metadata": {
    "pycharm": {
     "name": "#%% \n"
    }
   },
   "outputs": [],
   "source": [
    "print(dsge_simul.eu)"
   ]
  },
  {
   "cell_type": "markdown",
   "metadata": {},
   "source": [
    "The `irf` method computed the impulse-response functions of the calibrated model and returns a MultiIndex DataFrame, with (shock, period) as the index and variables as the columns. It also has functionality to plot the IRFs."
   ]
  },
  {
   "cell_type": "code",
   "execution_count": null,
   "metadata": {},
   "outputs": [],
   "source": [
    "df_irf = dsge_simul.irf(periods=24, show_charts=True)"
   ]
  },
  {
   "cell_type": "markdown",
   "metadata": {
    "pycharm": {
     "name": "#%% md\n"
    }
   },
   "source": [
    "---\n",
    "# Simulation\n",
    "\n",
    "There is a method to simulate data from the calibrated model. Here we are using a random seed for replication purposes.\n",
    "We will generate the data and plot the observed variables."
   ]
  },
  {
   "cell_type": "code",
   "execution_count": null,
   "metadata": {
    "pycharm": {
     "name": "#%%\n"
    },
    "scrolled": false
   },
   "outputs": [],
   "source": [
    "df_obs, df_states = dsge_simul.simulate(n_obs=200, random_seed=1)\n",
    "\n",
    "# Discard the beginning of the simulation\n",
    "df_states = df_states.tail(100).reset_index(drop=True)\n",
    "df_obs = df_obs.tail(100).reset_index(drop=True)\n",
    "\n",
    "df_obs.plot(figsize=(15, 9))"
   ]
  },
  {
   "cell_type": "markdown",
   "metadata": {},
   "source": [
    "Now we have simulated data based on our \"true\" parameters. We can now use this date to estimate the parameters."
   ]
  },
  {
   "cell_type": "markdown",
   "metadata": {
    "pycharm": {
     "name": "#%% md\n"
    }
   },
   "source": [
    "---\n",
    "# Estimation\n",
    "The estimation DSGEs usually comes with the problem of identificiationm of some of their parameters. To handle this \n",
    "problem, the parameters that are not identified usually are calibrated prior to estimation. In the cell below, we first create a dictionary with only the parameters we want to calibrate and then create a `Matrix` object of the parameters that are going to be estimated."
   ]
  },
  {
   "cell_type": "code",
   "execution_count": null,
   "metadata": {
    "pycharm": {
     "name": "#%%\n"
    }
   },
   "outputs": [],
   "source": [
    "calib_param = {varphi: 1, alpha: 0.4, beta: 0.997805}\n",
    "estimate_param = Matrix([sigma, theta, phi_pi, phi_y, rho_a, sigma_a, rho_v, sigma_v, sigma_pi])"
   ]
  },
  {
   "cell_type": "markdown",
   "metadata": {
    "pycharm": {
     "name": "#%% md\n"
    }
   },
   "source": [
    "Since we use bayesian estimation with MCMC we need to define the priors of the parameters that are going to be \n",
    "estimated. The available distributions for priors are Beta, Gamma, Inverse Gamma, Uniform and Normal. For each prior you \n",
    "have to choose a mean and a standard deviation. The table below shows how the mean and standard deviations are related \n",
    "to the distribution parameters. There is also a `label` entry for each parameter, which will be used for legends and \n",
    "titles on the output charts, and notice that it accepts $\\LaTeX$ entries.\n",
    "\n",
    "|Distribution|Parameter $a$|Parameter $b$|Support           |Mean           |Variance                                           |\n",
    "|------------|-------------|-------------|------------------|---------------|---------------------------------------------------|\n",
    "|Beta        |$a>0$ (shape)|$b>0$ (shape)|$\\left[0,1\\right]$|$\\frac{a}{a+b}$|$\\frac{ab}{\\left(a+b\\right)^{2}\\left(a+b+1\\right)}$|\n",
    "|Gamma\t     |$a>0$ (shape)|$b>0$ (scale)|$\\mathbb{R}^{+}$  |$ab$           |$ab^{2}$                                           |\n",
    "|Inverse Gamma|$a>0$ (shape)|$b>0$ (scale)|$\\mathbb{R}^{+}$ |$\\frac{\\beta}{\\alpha-1}$|$\\frac{\\beta^{2}}{\\left(\\alpha-1\\right)^{2}\\left(\\alpha-2\\right)}$|\n",
    "|Uniform     |$a\\in\\mathbb{R}$ (lower bound)|b>a (upper bound)|$\\left[a,b\\right]$|$\\frac{a+b}{2}$|$\\frac{\\left(b-a\\right)^{2}}{12}$|\n",
    "|Normal      |$a\\in\\mathbb{R}$ (mean)|$b>0$ (std)|$\\mathbb{R}$|$a$|$b^{2}$|"
   ]
  },
  {
   "cell_type": "code",
   "execution_count": null,
   "metadata": {
    "pycharm": {
     "name": "#%%\n"
    }
   },
   "outputs": [],
   "source": [
    "prior_dict = {sigma:    {'dist': 'normal',   'mean':  1.30, 'std': 0.20, 'label': '$\\\\sigma$'},\n",
    "              theta:    {'dist': 'beta',     'mean':  0.60, 'std': 0.20, 'label': '$\\\\theta$'},\n",
    "              phi_pi:   {'dist': 'normal',   'mean':  1.50, 'std': 0.35, 'label': '$\\\\phi_{\\\\pi}$'},\n",
    "              phi_y:    {'dist': 'gamma',    'mean':  0.25, 'std': 0.10, 'label': '$\\\\phi_{y}$'},\n",
    "              rho_a:    {'dist': 'beta',     'mean':  0.50, 'std': 0.25, 'label': '$\\\\rho_a$'},\n",
    "              sigma_a:  {'dist': 'invgamma', 'mean':  0.50, 'std': 0.25, 'label': '$\\\\sigma_a$'},\n",
    "              rho_v:    {'dist': 'beta',     'mean':  0.50, 'std': 0.25, 'label': '$\\\\rho_v$'},\n",
    "              sigma_v:  {'dist': 'invgamma', 'mean':  0.50, 'std': 0.25, 'label': '$\\\\sigma_v$'},\n",
    "              sigma_pi: {'dist': 'invgamma', 'mean':  0.50, 'std': 0.25, 'label': '$\\\\sigma_{\\\\pi}$'}}\n",
    "\n",
    "dsge = DSGE(endog=endog, \n",
    "            endogl=endogl, \n",
    "            exog=exog, \n",
    "            expec=expec, \n",
    "            state_equations=equations,\n",
    "            estimate_params=estimate_param,\n",
    "            calib_dict=calib_param,\n",
    "            obs_equations=obs_equations,\n",
    "            prior_dict=prior_dict,\n",
    "            obs_data=df_obs,\n",
    "            obs_names=obs_names,\n",
    "            verbose=True)"
   ]
  },
  {
   "cell_type": "markdown",
   "metadata": {},
   "source": [
    "After the model is declared, you can to pass three arguments to the `estimate` method. \n",
    "\n",
    "The argument `file_path` is the address for where you would like to save the HDF file with the generated MCMC chains.  This file type was chosen because of its fast read/write speed (on the other hand, the file is very large). Every 100 iterations, the chains will be saved to this file, which ensure that the MCMC chains are not lost on the event that the execution is interrupted. If you pass the adress of a file that already exists, it will read the chains from the file and continue from where it stoped. If the file passed does not exist, it will be created and before the MCMC step starts the `csminwel` optimization will find the posterior mode.\n",
    "\n",
    "The `nsim` (default: 1000) is the size of the chain and `ck` (deafult: 0.2) is the scale parameter for the\n",
    "Accpetance-Rejection part of the metropolis-hasting algorithm, which should be set in order to match your desired \n",
    "acceptance rate.\n",
    "\n",
    "If `verbose` is true, the steps of the estimation (optimization and MCMC) will be printed to the user."
   ]
  },
  {
   "cell_type": "code",
   "execution_count": null,
   "metadata": {
    "pycharm": {
     "name": "#%%\n"
    },
    "scrolled": false
   },
   "outputs": [],
   "source": [
    "dsge.estimate(file_path='example_snkm.h5', nsim=2000, ck=0.2)"
   ]
  },
  {
   "cell_type": "markdown",
   "metadata": {
    "pycharm": {
     "name": "#%% md\n"
    }
   },
   "source": [
    "The `eval_chain` method does not return any output, but it generates two charts, a posterior table as an atribute and sets the posterior mode as the parameters to compute the model solution. \n",
    "\n",
    "The first chart contains the subplots of the MCMC chains of each parameter and the second chart is the prior (countinous line) and posterior (histogram) for each parameter. The `burnin` parameter defines how much of\n",
    "the beggining of the chain is droped out of the analysis. If the input is a `float` between 0 and 1, that percentage of the beggining of the chain will be dropped, and if it is an `int` and bigger than 1, that many observations are dropped. The `conf` parameter is the level of credibility to compute credibility intervals from the posterior distribution."
   ]
  },
  {
   "cell_type": "code",
   "execution_count": null,
   "metadata": {
    "pycharm": {
     "name": "#%%\n"
    }
   },
   "outputs": [],
   "source": [
    "dsge.eval_chains(burnin=0.1, show_charts=True, conf=0.99)"
   ]
  },
  {
   "cell_type": "markdown",
   "metadata": {
    "pycharm": {
     "name": "#%% md\n"
    }
   },
   "source": [
    "After the estimation, the DSGE model obsject earns the `posterior_table` attribute, which contains a pandas DataFrame\n",
    "with the tradional measures reported on academic papers."
   ]
  },
  {
   "cell_type": "code",
   "execution_count": null,
   "metadata": {
    "pycharm": {
     "name": "#%%\n"
    }
   },
   "outputs": [],
   "source": [
    "dsge.posterior_table"
   ]
  },
  {
   "cell_type": "markdown",
   "metadata": {},
   "source": [
    "---\n",
    "# Analysis"
   ]
  },
  {
   "cell_type": "markdown",
   "metadata": {
    "pycharm": {
     "name": "#%% md\n"
    }
   },
   "source": [
    "After running the `eval_chains` method, we can ask for the impulse-response functions of the model."
   ]
  },
  {
   "cell_type": "code",
   "execution_count": null,
   "metadata": {},
   "outputs": [],
   "source": [
    "df_irf = dsge.irf(periods=24, show_charts=True)"
   ]
  },
  {
   "cell_type": "markdown",
   "metadata": {},
   "source": [
    "We can also extract estimated state variables with the Kalman Filter (either the filtered or smoothed version). Typically, the interest is estimating the latent state variables."
   ]
  },
  {
   "cell_type": "code",
   "execution_count": null,
   "metadata": {},
   "outputs": [],
   "source": [
    "df_states_hat, df_states_se = dsge.states()\n",
    "df_states_hat[['a', 'v']].plot(figsize=(15, 9))"
   ]
  },
  {
   "cell_type": "markdown",
   "metadata": {},
   "source": [
    "Computing the historical decompostion of the observed variables is only available if the number of exogenous shocks is the same as the number of observed variables."
   ]
  },
  {
   "cell_type": "code",
   "execution_count": null,
   "metadata": {},
   "outputs": [],
   "source": [
    "df_hd = dsge.hist_decomp(show_charts=True)"
   ]
  }
 ],
 "metadata": {
  "kernelspec": {
   "display_name": "Python 3 (ipykernel)",
   "language": "python",
   "name": "python3"
  },
  "language_info": {
   "codemirror_mode": {
    "name": "ipython",
    "version": 3
   },
   "file_extension": ".py",
   "mimetype": "text/x-python",
   "name": "python",
   "nbconvert_exporter": "python",
   "pygments_lexer": "ipython3",
   "version": "3.9.7"
  }
 },
 "nbformat": 4,
 "nbformat_minor": 1
}
